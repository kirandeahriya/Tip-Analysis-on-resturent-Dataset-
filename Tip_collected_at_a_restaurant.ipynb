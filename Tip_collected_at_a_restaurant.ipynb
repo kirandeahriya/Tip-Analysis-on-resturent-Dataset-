{
  "cells": [
    {
      "cell_type": "markdown",
      "metadata": {
        "id": "r0WtnFsM4o_w"
      },
      "source": [
        "Use the Tips Dataset\n",
        "The data set is from a restaurant from a city that operates only on 4 days of the week. Thursday, Friday, Saturday, Sunday. It records each transaction that was done when the restaurant was open.\n",
        "\n",
        "The key parameters are\n",
        "\n",
        "Total Bill - Amount of total bill in USD\n",
        "Tip - Amount of tip given by the customer in USD\n",
        "Sex - Sex of the guest who pays for the bill (Male or Female)\n",
        "Smoker - Smoker in the party (Yes or No)\n",
        "Day - Day of the week (Thu, Fri, Sat, Sun)\n",
        "Time - Dinner or Lunch\n",
        "Size - Number of the guests in the party\n",
        "\n",
        "As a data scientist, you have been assigned the task to investigate the pattern of the tip received by the restaurant staff because the tip is an important parameter of their salary\n",
        "\n",
        "\n",
        "\n",
        "Find out Five-Number summary for \"Total Bill\" and \"Tip\"\n",
        "Plot the Box plot diagram for \"Total Bill\" and \"Tip\"\n",
        "Analyze the diagram to mark the skewness in the data\n",
        "Find out the outliers for \"Total Bill\" and \"Tip\"\n",
        "Find out the IQR\n",
        "Plot the histogram for \"Total Bill\" and \"Tip\"\n",
        "Identify skewness in each. Type of skewness and the possible reason for the skewness\n",
        "Plot the cumulative Frequency Polygon for \"Total Bill\" and \"Tip\"\n",
        "Prepare the Frequency Table and Bar Chart for \"Size\". Summarize and explain your findings\n",
        "Prepare two variable frequency tables for \"Size\" vs \"Tip\" and \"Size\" vs \"Total Bill\". Summarize and explain your findings.\n",
        "Explore if there is any dependency between the variable \"Tip\" and rest of the variables"
      ]
    },
    {
      "cell_type": "code",
      "execution_count": null,
      "metadata": {
        "colab": {
          "background_save": true
        },
        "id": "RqJ_V0ZG4PCG"
      },
      "outputs": [],
      "source": [
        "import numpy as np \n",
        "import matplotlib.pyplot as plt\n",
        "import pandas as pd\n",
        "from pandas import Series, DataFrame\n",
        "import seaborn as sns\n",
        "from scipy import stats"
      ]
    },
    {
      "cell_type": "code",
      "execution_count": null,
      "metadata": {
        "colab": {
          "background_save": true,
          "base_uri": "https://localhost:8080/",
          "height": 380
        },
        "id": "W_scB8iG42em",
        "outputId": "7cade4c2-89ee-4d1c-d0b0-9516c601f2bd"
      },
      "outputs": [
        {
          "data": {
            "text/html": [
              "\n",
              "  <div id=\"df-c70957d2-67c3-49c4-a474-54ed0d76f9b4\">\n",
              "    <div class=\"colab-df-container\">\n",
              "      <div>\n",
              "<style scoped>\n",
              "    .dataframe tbody tr th:only-of-type {\n",
              "        vertical-align: middle;\n",
              "    }\n",
              "\n",
              "    .dataframe tbody tr th {\n",
              "        vertical-align: top;\n",
              "    }\n",
              "\n",
              "    .dataframe thead th {\n",
              "        text-align: right;\n",
              "    }\n",
              "</style>\n",
              "<table border=\"1\" class=\"dataframe\">\n",
              "  <thead>\n",
              "    <tr style=\"text-align: right;\">\n",
              "      <th></th>\n",
              "      <th>total_bill</th>\n",
              "      <th>tip</th>\n",
              "      <th>sex</th>\n",
              "      <th>smoker</th>\n",
              "      <th>day</th>\n",
              "      <th>time</th>\n",
              "      <th>size</th>\n",
              "    </tr>\n",
              "  </thead>\n",
              "  <tbody>\n",
              "    <tr>\n",
              "      <th>0</th>\n",
              "      <td>16.99</td>\n",
              "      <td>1.01</td>\n",
              "      <td>Female</td>\n",
              "      <td>No</td>\n",
              "      <td>Sun</td>\n",
              "      <td>Dinner</td>\n",
              "      <td>2</td>\n",
              "    </tr>\n",
              "    <tr>\n",
              "      <th>1</th>\n",
              "      <td>10.34</td>\n",
              "      <td>1.66</td>\n",
              "      <td>Male</td>\n",
              "      <td>No</td>\n",
              "      <td>Sun</td>\n",
              "      <td>Dinner</td>\n",
              "      <td>3</td>\n",
              "    </tr>\n",
              "    <tr>\n",
              "      <th>2</th>\n",
              "      <td>21.01</td>\n",
              "      <td>3.50</td>\n",
              "      <td>Male</td>\n",
              "      <td>No</td>\n",
              "      <td>Sun</td>\n",
              "      <td>Dinner</td>\n",
              "      <td>3</td>\n",
              "    </tr>\n",
              "    <tr>\n",
              "      <th>3</th>\n",
              "      <td>23.68</td>\n",
              "      <td>3.31</td>\n",
              "      <td>Male</td>\n",
              "      <td>No</td>\n",
              "      <td>Sun</td>\n",
              "      <td>Dinner</td>\n",
              "      <td>2</td>\n",
              "    </tr>\n",
              "    <tr>\n",
              "      <th>4</th>\n",
              "      <td>24.59</td>\n",
              "      <td>3.61</td>\n",
              "      <td>Female</td>\n",
              "      <td>No</td>\n",
              "      <td>Sun</td>\n",
              "      <td>Dinner</td>\n",
              "      <td>4</td>\n",
              "    </tr>\n",
              "    <tr>\n",
              "      <th>...</th>\n",
              "      <td>...</td>\n",
              "      <td>...</td>\n",
              "      <td>...</td>\n",
              "      <td>...</td>\n",
              "      <td>...</td>\n",
              "      <td>...</td>\n",
              "      <td>...</td>\n",
              "    </tr>\n",
              "    <tr>\n",
              "      <th>239</th>\n",
              "      <td>29.03</td>\n",
              "      <td>5.92</td>\n",
              "      <td>Male</td>\n",
              "      <td>No</td>\n",
              "      <td>Sat</td>\n",
              "      <td>Dinner</td>\n",
              "      <td>3</td>\n",
              "    </tr>\n",
              "    <tr>\n",
              "      <th>240</th>\n",
              "      <td>27.18</td>\n",
              "      <td>2.00</td>\n",
              "      <td>Female</td>\n",
              "      <td>Yes</td>\n",
              "      <td>Sat</td>\n",
              "      <td>Dinner</td>\n",
              "      <td>2</td>\n",
              "    </tr>\n",
              "    <tr>\n",
              "      <th>241</th>\n",
              "      <td>22.67</td>\n",
              "      <td>2.00</td>\n",
              "      <td>Male</td>\n",
              "      <td>Yes</td>\n",
              "      <td>Sat</td>\n",
              "      <td>Dinner</td>\n",
              "      <td>2</td>\n",
              "    </tr>\n",
              "    <tr>\n",
              "      <th>242</th>\n",
              "      <td>17.82</td>\n",
              "      <td>1.75</td>\n",
              "      <td>Male</td>\n",
              "      <td>No</td>\n",
              "      <td>Sat</td>\n",
              "      <td>Dinner</td>\n",
              "      <td>2</td>\n",
              "    </tr>\n",
              "    <tr>\n",
              "      <th>243</th>\n",
              "      <td>18.78</td>\n",
              "      <td>3.00</td>\n",
              "      <td>Female</td>\n",
              "      <td>No</td>\n",
              "      <td>Thur</td>\n",
              "      <td>Dinner</td>\n",
              "      <td>2</td>\n",
              "    </tr>\n",
              "  </tbody>\n",
              "</table>\n",
              "<p>244 rows × 7 columns</p>\n",
              "</div>\n",
              "      <button class=\"colab-df-convert\" onclick=\"convertToInteractive('df-c70957d2-67c3-49c4-a474-54ed0d76f9b4')\"\n",
              "              title=\"Convert this dataframe to an interactive table.\"\n",
              "              style=\"display:none;\">\n",
              "        \n",
              "  <svg xmlns=\"http://www.w3.org/2000/svg\" height=\"24px\"viewBox=\"0 0 24 24\"\n",
              "       width=\"24px\">\n",
              "    <path d=\"M0 0h24v24H0V0z\" fill=\"none\"/>\n",
              "    <path d=\"M18.56 5.44l.94 2.06.94-2.06 2.06-.94-2.06-.94-.94-2.06-.94 2.06-2.06.94zm-11 1L8.5 8.5l.94-2.06 2.06-.94-2.06-.94L8.5 2.5l-.94 2.06-2.06.94zm10 10l.94 2.06.94-2.06 2.06-.94-2.06-.94-.94-2.06-.94 2.06-2.06.94z\"/><path d=\"M17.41 7.96l-1.37-1.37c-.4-.4-.92-.59-1.43-.59-.52 0-1.04.2-1.43.59L10.3 9.45l-7.72 7.72c-.78.78-.78 2.05 0 2.83L4 21.41c.39.39.9.59 1.41.59.51 0 1.02-.2 1.41-.59l7.78-7.78 2.81-2.81c.8-.78.8-2.07 0-2.86zM5.41 20L4 18.59l7.72-7.72 1.47 1.35L5.41 20z\"/>\n",
              "  </svg>\n",
              "      </button>\n",
              "      \n",
              "  <style>\n",
              "    .colab-df-container {\n",
              "      display:flex;\n",
              "      flex-wrap:wrap;\n",
              "      gap: 12px;\n",
              "    }\n",
              "\n",
              "    .colab-df-convert {\n",
              "      background-color: #E8F0FE;\n",
              "      border: none;\n",
              "      border-radius: 50%;\n",
              "      cursor: pointer;\n",
              "      display: none;\n",
              "      fill: #1967D2;\n",
              "      height: 32px;\n",
              "      padding: 0 0 0 0;\n",
              "      width: 32px;\n",
              "    }\n",
              "\n",
              "    .colab-df-convert:hover {\n",
              "      background-color: #E2EBFA;\n",
              "      box-shadow: 0px 1px 2px rgba(60, 64, 67, 0.3), 0px 1px 3px 1px rgba(60, 64, 67, 0.15);\n",
              "      fill: #174EA6;\n",
              "    }\n",
              "\n",
              "    [theme=dark] .colab-df-convert {\n",
              "      background-color: #3B4455;\n",
              "      fill: #D2E3FC;\n",
              "    }\n",
              "\n",
              "    [theme=dark] .colab-df-convert:hover {\n",
              "      background-color: #434B5C;\n",
              "      box-shadow: 0px 1px 3px 1px rgba(0, 0, 0, 0.15);\n",
              "      filter: drop-shadow(0px 1px 2px rgba(0, 0, 0, 0.3));\n",
              "      fill: #FFFFFF;\n",
              "    }\n",
              "  </style>\n",
              "\n",
              "      <script>\n",
              "        const buttonEl =\n",
              "          document.querySelector('#df-c70957d2-67c3-49c4-a474-54ed0d76f9b4 button.colab-df-convert');\n",
              "        buttonEl.style.display =\n",
              "          google.colab.kernel.accessAllowed ? 'block' : 'none';\n",
              "\n",
              "        async function convertToInteractive(key) {\n",
              "          const element = document.querySelector('#df-c70957d2-67c3-49c4-a474-54ed0d76f9b4');\n",
              "          const dataTable =\n",
              "            await google.colab.kernel.invokeFunction('convertToInteractive',\n",
              "                                                     [key], {});\n",
              "          if (!dataTable) return;\n",
              "\n",
              "          const docLinkHtml = 'Like what you see? Visit the ' +\n",
              "            '<a target=\"_blank\" href=https://colab.research.google.com/notebooks/data_table.ipynb>data table notebook</a>'\n",
              "            + ' to learn more about interactive tables.';\n",
              "          element.innerHTML = '';\n",
              "          dataTable['output_type'] = 'display_data';\n",
              "          await google.colab.output.renderOutput(dataTable, element);\n",
              "          const docLink = document.createElement('div');\n",
              "          docLink.innerHTML = docLinkHtml;\n",
              "          element.appendChild(docLink);\n",
              "        }\n",
              "      </script>\n",
              "    </div>\n",
              "  </div>\n",
              "  "
            ],
            "text/plain": [
              "     total_bill   tip     sex smoker   day    time  size\n",
              "0         16.99  1.01  Female     No   Sun  Dinner     2\n",
              "1         10.34  1.66    Male     No   Sun  Dinner     3\n",
              "2         21.01  3.50    Male     No   Sun  Dinner     3\n",
              "3         23.68  3.31    Male     No   Sun  Dinner     2\n",
              "4         24.59  3.61  Female     No   Sun  Dinner     4\n",
              "..          ...   ...     ...    ...   ...     ...   ...\n",
              "239       29.03  5.92    Male     No   Sat  Dinner     3\n",
              "240       27.18  2.00  Female    Yes   Sat  Dinner     2\n",
              "241       22.67  2.00    Male    Yes   Sat  Dinner     2\n",
              "242       17.82  1.75    Male     No   Sat  Dinner     2\n",
              "243       18.78  3.00  Female     No  Thur  Dinner     2\n",
              "\n",
              "[244 rows x 7 columns]"
            ]
          },
          "execution_count": 2,
          "metadata": {},
          "output_type": "execute_result"
        }
      ],
      "source": [
        "#Let's Import the csv file and print the file\n",
        "\n",
        "imp = pd.read_csv(\"tips.csv\")\n",
        "imp"
      ]
    },
    {
      "cell_type": "markdown",
      "metadata": {
        "id": "WqL9HYCd4836"
      },
      "source": [
        "1. Five Number Summary For bill and tip"
      ]
    },
    {
      "cell_type": "code",
      "execution_count": null,
      "metadata": {
        "colab": {
          "background_save": true,
          "base_uri": "https://localhost:8080/",
          "height": 235
        },
        "id": "UteyAbqY44hD",
        "outputId": "ed4e339b-6a72-4f72-889a-c229c983a08f"
      },
      "outputs": [
        {
          "name": "stdout",
          "output_type": "stream",
          "text": [
            "Maximum Bill =  50.81\n",
            "Minimum Bill =  3.07\n",
            "Standard Deviation =  8.884150577771132\n",
            "Median = 17.795\n",
            "Mean =  19.78594262295082\n"
          ]
        }
      ],
      "source": [
        "# Five Number Summary for Bill\n",
        "\n",
        "bill = imp.total_bill\n",
        "\n",
        "print(\"Maximum Bill = \",np.max(bill))\n",
        "print(\"Minimum Bill = \",np.min(bill))\n",
        "print(\"Standard Deviation = \",np.std(bill))\n",
        "print(\"Median =\",np.median(bill))\n",
        "print(\"Mean = \",np.mean(bill))"
      ]
    },
    {
      "cell_type": "code",
      "execution_count": null,
      "metadata": {
        "colab": {
          "background_save": true
        },
        "id": "YAWZGlJn5Nrr",
        "outputId": "9174cbd1-b20b-4ed5-df9b-0f863dd047e3"
      },
      "outputs": [
        {
          "name": "stdout",
          "output_type": "stream",
          "text": [
            "Maximum Bill =  10.0\n",
            "Minimum Bill =  1.0\n",
            "Standard Deviation =  1.3807999538298954\n",
            "Median = 2.9\n",
            "Mean =  2.99827868852459\n"
          ]
        }
      ],
      "source": [
        "# Five Number Summary for tip \n",
        "\n",
        "tip = imp.tip\n",
        "\n",
        "print(\"Maximum Bill = \",np.max(tip))\n",
        "print(\"Minimum Bill = \",np.min(tip))\n",
        "print(\"Standard Deviation = \",np.std(tip))\n",
        "print(\"Median =\",np.median(tip))\n",
        "print(\"Mean = \",np.mean(tip))"
      ]
    },
    {
      "cell_type": "code",
      "execution_count": null,
      "metadata": {
        "colab": {
          "background_save": true,
          "base_uri": "https://localhost:8080/",
          "height": 165
        },
        "id": "VCRno2xh5RKT",
        "outputId": "5d04c64f-5db9-49f0-bce9-a99bb4779e01"
      },
      "outputs": [
        {
          "data": {
            "text/html": [
              "\n",
              "  <div id=\"df-7defde46-8b1b-471b-be6f-6fd638ef1827\">\n",
              "    <div class=\"colab-df-container\">\n",
              "      <div>\n",
              "<style scoped>\n",
              "    .dataframe tbody tr th:only-of-type {\n",
              "        vertical-align: middle;\n",
              "    }\n",
              "\n",
              "    .dataframe tbody tr th {\n",
              "        vertical-align: top;\n",
              "    }\n",
              "\n",
              "    .dataframe thead th {\n",
              "        text-align: right;\n",
              "    }\n",
              "</style>\n",
              "<table border=\"1\" class=\"dataframe\">\n",
              "  <thead>\n",
              "    <tr style=\"text-align: right;\">\n",
              "      <th></th>\n",
              "      <th>total_bill</th>\n",
              "      <th>tip</th>\n",
              "      <th>size</th>\n",
              "    </tr>\n",
              "  </thead>\n",
              "  <tbody>\n",
              "    <tr>\n",
              "      <th>count</th>\n",
              "      <td>244.000000</td>\n",
              "      <td>244.000000</td>\n",
              "      <td>244.000000</td>\n",
              "    </tr>\n",
              "    <tr>\n",
              "      <th>mean</th>\n",
              "      <td>19.785943</td>\n",
              "      <td>2.998279</td>\n",
              "      <td>2.569672</td>\n",
              "    </tr>\n",
              "    <tr>\n",
              "      <th>std</th>\n",
              "      <td>8.902412</td>\n",
              "      <td>1.383638</td>\n",
              "      <td>0.951100</td>\n",
              "    </tr>\n",
              "    <tr>\n",
              "      <th>min</th>\n",
              "      <td>3.070000</td>\n",
              "      <td>1.000000</td>\n",
              "      <td>1.000000</td>\n",
              "    </tr>\n",
              "    <tr>\n",
              "      <th>25%</th>\n",
              "      <td>13.347500</td>\n",
              "      <td>2.000000</td>\n",
              "      <td>2.000000</td>\n",
              "    </tr>\n",
              "    <tr>\n",
              "      <th>50%</th>\n",
              "      <td>17.795000</td>\n",
              "      <td>2.900000</td>\n",
              "      <td>2.000000</td>\n",
              "    </tr>\n",
              "    <tr>\n",
              "      <th>75%</th>\n",
              "      <td>24.127500</td>\n",
              "      <td>3.562500</td>\n",
              "      <td>3.000000</td>\n",
              "    </tr>\n",
              "    <tr>\n",
              "      <th>max</th>\n",
              "      <td>50.810000</td>\n",
              "      <td>10.000000</td>\n",
              "      <td>6.000000</td>\n",
              "    </tr>\n",
              "  </tbody>\n",
              "</table>\n",
              "</div>\n",
              "      <button class=\"colab-df-convert\" onclick=\"convertToInteractive('df-7defde46-8b1b-471b-be6f-6fd638ef1827')\"\n",
              "              title=\"Convert this dataframe to an interactive table.\"\n",
              "              style=\"display:none;\">\n",
              "        \n",
              "  <svg xmlns=\"http://www.w3.org/2000/svg\" height=\"24px\"viewBox=\"0 0 24 24\"\n",
              "       width=\"24px\">\n",
              "    <path d=\"M0 0h24v24H0V0z\" fill=\"none\"/>\n",
              "    <path d=\"M18.56 5.44l.94 2.06.94-2.06 2.06-.94-2.06-.94-.94-2.06-.94 2.06-2.06.94zm-11 1L8.5 8.5l.94-2.06 2.06-.94-2.06-.94L8.5 2.5l-.94 2.06-2.06.94zm10 10l.94 2.06.94-2.06 2.06-.94-2.06-.94-.94-2.06-.94 2.06-2.06.94z\"/><path d=\"M17.41 7.96l-1.37-1.37c-.4-.4-.92-.59-1.43-.59-.52 0-1.04.2-1.43.59L10.3 9.45l-7.72 7.72c-.78.78-.78 2.05 0 2.83L4 21.41c.39.39.9.59 1.41.59.51 0 1.02-.2 1.41-.59l7.78-7.78 2.81-2.81c.8-.78.8-2.07 0-2.86zM5.41 20L4 18.59l7.72-7.72 1.47 1.35L5.41 20z\"/>\n",
              "  </svg>\n",
              "      </button>\n",
              "      \n",
              "  <style>\n",
              "    .colab-df-container {\n",
              "      display:flex;\n",
              "      flex-wrap:wrap;\n",
              "      gap: 12px;\n",
              "    }\n",
              "\n",
              "    .colab-df-convert {\n",
              "      background-color: #E8F0FE;\n",
              "      border: none;\n",
              "      border-radius: 50%;\n",
              "      cursor: pointer;\n",
              "      display: none;\n",
              "      fill: #1967D2;\n",
              "      height: 32px;\n",
              "      padding: 0 0 0 0;\n",
              "      width: 32px;\n",
              "    }\n",
              "\n",
              "    .colab-df-convert:hover {\n",
              "      background-color: #E2EBFA;\n",
              "      box-shadow: 0px 1px 2px rgba(60, 64, 67, 0.3), 0px 1px 3px 1px rgba(60, 64, 67, 0.15);\n",
              "      fill: #174EA6;\n",
              "    }\n",
              "\n",
              "    [theme=dark] .colab-df-convert {\n",
              "      background-color: #3B4455;\n",
              "      fill: #D2E3FC;\n",
              "    }\n",
              "\n",
              "    [theme=dark] .colab-df-convert:hover {\n",
              "      background-color: #434B5C;\n",
              "      box-shadow: 0px 1px 3px 1px rgba(0, 0, 0, 0.15);\n",
              "      filter: drop-shadow(0px 1px 2px rgba(0, 0, 0, 0.3));\n",
              "      fill: #FFFFFF;\n",
              "    }\n",
              "  </style>\n",
              "\n",
              "      <script>\n",
              "        const buttonEl =\n",
              "          document.querySelector('#df-7defde46-8b1b-471b-be6f-6fd638ef1827 button.colab-df-convert');\n",
              "        buttonEl.style.display =\n",
              "          google.colab.kernel.accessAllowed ? 'block' : 'none';\n",
              "\n",
              "        async function convertToInteractive(key) {\n",
              "          const element = document.querySelector('#df-7defde46-8b1b-471b-be6f-6fd638ef1827');\n",
              "          const dataTable =\n",
              "            await google.colab.kernel.invokeFunction('convertToInteractive',\n",
              "                                                     [key], {});\n",
              "          if (!dataTable) return;\n",
              "\n",
              "          const docLinkHtml = 'Like what you see? Visit the ' +\n",
              "            '<a target=\"_blank\" href=https://colab.research.google.com/notebooks/data_table.ipynb>data table notebook</a>'\n",
              "            + ' to learn more about interactive tables.';\n",
              "          element.innerHTML = '';\n",
              "          dataTable['output_type'] = 'display_data';\n",
              "          await google.colab.output.renderOutput(dataTable, element);\n",
              "          const docLink = document.createElement('div');\n",
              "          docLink.innerHTML = docLinkHtml;\n",
              "          element.appendChild(docLink);\n",
              "        }\n",
              "      </script>\n",
              "    </div>\n",
              "  </div>\n",
              "  "
            ],
            "text/plain": [
              "       total_bill         tip        size\n",
              "count  244.000000  244.000000  244.000000\n",
              "mean    19.785943    2.998279    2.569672\n",
              "std      8.902412    1.383638    0.951100\n",
              "min      3.070000    1.000000    1.000000\n",
              "25%     13.347500    2.000000    2.000000\n",
              "50%     17.795000    2.900000    2.000000\n",
              "75%     24.127500    3.562500    3.000000\n",
              "max     50.810000   10.000000    6.000000"
            ]
          },
          "execution_count": 5,
          "metadata": {},
          "output_type": "execute_result"
        }
      ],
      "source": [
        "imp.describe()  #Show the mean, median, std and much more. "
      ]
    },
    {
      "cell_type": "code",
      "execution_count": null,
      "metadata": {
        "colab": {
          "background_save": true
        },
        "id": "MZQR2WAC5UHz",
        "outputId": "342da36e-e0d7-4749-cf72-31a2271f616d"
      },
      "outputs": [
        {
          "name": "stdout",
          "output_type": "stream",
          "text": [
            "Box Plot for the total bill\n"
          ]
        },
        {
          "data": {
            "image/png": "[encoded data removed]",
            "text/plain": [
              "<Figure size 432x288 with 1 Axes>"
            ]
          },
          "metadata": {},
          "output_type": "display_data"
        }
      ],
      "source": [
        "#2.Plot the Box plot diagram for \"Total Bill\" and \"Tip\"\n",
        "# Boxplot for the total bill using matplotlib\n",
        "\n",
        "print(\"Box Plot for the total bill\")\n",
        "plt.boxplot(bill) \n",
        "plt.show()"
      ]
    },
    {
      "cell_type": "code",
      "execution_count": null,
      "metadata": {
        "colab": {
          "background_save": true,
          "base_uri": "https://localhost:8080/",
          "height": 289
        },
        "id": "F_jbN06b5aii",
        "outputId": "e9bd2d00-dda5-42f9-a019-a9c5a82a4812"
      },
      "outputs": [
        {
          "name": "stderr",
          "output_type": "stream",
          "text": [
            "/usr/local/lib/python3.7/dist-packages/seaborn/_decorators.py:43: FutureWarning: Pass the following variable as a keyword arg: x. From version 0.12, the only valid positional argument will be `data`, and passing other arguments without an explicit keyword will result in an error or misinterpretation.\n",
            "  FutureWarning\n"
          ]
        },
        {
          "data": {
            "text/plain": [
              "<matplotlib.axes._subplots.AxesSubplot at 0x7f7f166414d0>"
            ]
          },
          "execution_count": 11,
          "metadata": {},
          "output_type": "execute_result"
        },
        {
          "data": {
            "image/png": "[encoded data removed]",
            "text/plain": [
              "<Figure size 432x288 with 1 Axes>"
            ]
          },
          "metadata": {},
          "output_type": "display_data"
        }
      ],
      "source": [
        "#using seaborn\n",
        "\n",
        "sns.set(style=\"whitegrid\")\n",
        "box_plot= sns.boxplot( )\n",
        "box_plot"
      ]
    },
    {
      "cell_type": "code",
      "execution_count": null,
      "metadata": {
        "colab": {
          "background_save": true,
          "base_uri": "https://localhost:8080/",
          "height": 285
        },
        "id": "DKGajYfr5eNy",
        "outputId": "380910d7-e5a3-4e14-d1c8-d8a8033348e4"
      },
      "outputs": [
        {
          "name": "stdout",
          "output_type": "stream",
          "text": [
            "Box Plot for the tip \n"
          ]
        },
        {
          "data": {
            "image/png": "[encoded data removed]",
            "text/plain": [
              "<Figure size 432x288 with 1 Axes>"
            ]
          },
          "metadata": {},
          "output_type": "display_data"
        }
      ],
      "source": [
        "# Boxplot for the tip using matplotlib\n",
        "\n",
        "\n",
        "print(\"Box Plot for the tip \")\n",
        "plt.boxplot(tip)\n",
        "plt.show()"
      ]
    },
    {
      "cell_type": "code",
      "execution_count": null,
      "metadata": {
        "colab": {
          "background_save": true,
          "base_uri": "https://localhost:8080/",
          "height": 302
        },
        "id": "ikzmN2lJ5hJq",
        "outputId": "e65ee9d8-27c9-4691-e596-6fc8b45dcd32"
      },
      "outputs": [
        {
          "data": {
            "text/plain": [
              "<matplotlib.axes._subplots.AxesSubplot at 0x7f7f19c865d0>"
            ]
          },
          "execution_count": 9,
          "metadata": {},
          "output_type": "execute_result"
        },
        {
          "data": {
            "image/png": "[encoded data removed]",
            "text/plain": [
              "<Figure size 432x288 with 1 Axes>"
            ]
          },
          "metadata": {},
          "output_type": "display_data"
        }
      ],
      "source": [
        "#Using Seaborn\n",
        "\n",
        "sns.set(style=\"whitegrid\")\n",
        "box_plot= sns.boxplot(x=\"tip\",data=imp,color='g')\n",
        "box_plot"
      ]
    },
    {
      "cell_type": "code",
      "execution_count": null,
      "metadata": {
        "colab": {
          "background_save": true,
          "base_uri": "https://localhost:8080/",
          "height": 529
        },
        "id": "25hOSAHi5khi",
        "outputId": "49e78aba-5100-4f31-d47b-455e08303788"
      },
      "outputs": [
        {
          "ename": "TypeError",
          "evalue": "ignored",
          "output_type": "error",
          "traceback": [
            "\u001b[0;31m---------------------------------------------------------------------------\u001b[0m",
            "\u001b[0;31mTypeError\u001b[0m                                 Traceback (most recent call last)",
            "\u001b[0;32m<ipython-input-10-2419d5875379>\u001b[0m in \u001b[0;36m<module>\u001b[0;34m\u001b[0m\n\u001b[1;32m      6\u001b[0m \u001b[0mplt\u001b[0m\u001b[0;34m.\u001b[0m\u001b[0mxlabel\u001b[0m\u001b[0;34m(\u001b[0m\u001b[0;34m\"Total Bill\"\u001b[0m\u001b[0;34m,\u001b[0m\u001b[0mfontsize\u001b[0m\u001b[0;34m=\u001b[0m\u001b[0;36m19\u001b[0m\u001b[0;34m)\u001b[0m\u001b[0;34m\u001b[0m\u001b[0;34m\u001b[0m\u001b[0m\n\u001b[1;32m      7\u001b[0m \u001b[0mplt\u001b[0m\u001b[0;34m.\u001b[0m\u001b[0mylabel\u001b[0m\u001b[0;34m(\u001b[0m\u001b[0;34m\"Distribution\"\u001b[0m\u001b[0;34m,\u001b[0m\u001b[0mfontsize\u001b[0m\u001b[0;34m=\u001b[0m\u001b[0;36m19\u001b[0m\u001b[0;34m)\u001b[0m\u001b[0;34m\u001b[0m\u001b[0;34m\u001b[0m\u001b[0m\n\u001b[0;32m----> 8\u001b[0;31m \u001b[0mplt\u001b[0m\u001b[0;34m.\u001b[0m\u001b[0mtitle\u001b[0m\u001b[0;34m(\u001b[0m \u001b[0mfontsize\u001b[0m\u001b[0;34m=\u001b[0m\u001b[0;36m19\u001b[0m\u001b[0;34m)\u001b[0m\u001b[0;34m\u001b[0m\u001b[0;34m\u001b[0m\u001b[0m\n\u001b[0m\u001b[1;32m      9\u001b[0m \u001b[0mplt\u001b[0m\u001b[0;34m.\u001b[0m\u001b[0mgrid\u001b[0m\u001b[0;34m(\u001b[0m\u001b[0maxis\u001b[0m\u001b[0;34m=\u001b[0m\u001b[0;34m'y'\u001b[0m\u001b[0;34m,\u001b[0m \u001b[0malpha\u001b[0m\u001b[0;34m=\u001b[0m\u001b[0;36m0.75\u001b[0m\u001b[0;34m)\u001b[0m\u001b[0;34m\u001b[0m\u001b[0;34m\u001b[0m\u001b[0m\n\u001b[1;32m     10\u001b[0m \u001b[0mplt\u001b[0m\u001b[0;34m.\u001b[0m\u001b[0mshow\u001b[0m\u001b[0;34m(\u001b[0m\u001b[0;34m)\u001b[0m\u001b[0;34m\u001b[0m\u001b[0;34m\u001b[0m\u001b[0m\n",
            "\u001b[0;31mTypeError\u001b[0m: title() missing 1 required positional argument: 'label'"
          ]
        },
        {
          "data": {
            "image/png": "[encoded data removed]",
            "text/plain": [
              "<Figure size 864x576 with 1 Axes>"
            ]
          },
          "metadata": {},
          "output_type": "display_data"
        }
      ],
      "source": [
        "#3. Analyze the diagram to mark the skewness in the data\n",
        "# Normal Distribution Histogram For Total Bill\n",
        "\n",
        "plt.figure(figsize=[12,8])\n",
        "plt.hist(x=bill, bins=20, color = 'g',edgecolor=\"g\")\n",
        "plt.xlabel(\"Total Bill\",fontsize=19)\n",
        "plt.ylabel(\"Distribution\",fontsize=19)\n",
        "plt.title( fontsize=19)\n",
        "plt.grid(axis='y', alpha=0.75)\n",
        "plt.show()"
      ]
    },
    {
      "cell_type": "code",
      "execution_count": null,
      "metadata": {
        "colab": {
          "background_save": true
        },
        "id": "czDX8umR5qPT"
      },
      "outputs": [],
      "source": [
        "# Normal Distribution Histogram For Tip\n",
        "\n",
        "plt.figure(figsize=[6,6])\n",
        "\n",
        "plt.hist(x=tip, bins=20, color = 'b', edgecolor=\"black\")\n",
        "\n",
        "plt.xlabel(\"Tip\",fontsize=19)\n",
        "plt.ylabel(\"Distribution\",fontsize=19)\n",
        "\n",
        "plt.title('Normal Distribution Histogram For Tip - Bins 20 ',fontsize=19)\n",
        "\n",
        "plt.grid(axis='y', alpha=0.75)\n",
        "\n",
        "plt.show()"
      ]
    },
    {
      "cell_type": "code",
      "execution_count": null,
      "metadata": {
        "colab": {
          "background_save": true
        },
        "id": "6uBxHVT16SGR"
      },
      "outputs": [],
      "source": [
        "#4. Find out the outliers for \"Total Bill\" and \"Tip\"\n",
        "# outliers in bill column\n",
        "\n",
        "plt.figure(figsize=(20,5))\n",
        "\n",
        "sns.boxplot(x=bill, color='b')\n",
        "\n",
        "\n",
        "print(\"***The plot shows 8 points outside the box, these are outliers as there are not included\"\n",
        "      \"in the box of other observation i.e no where near the quartiles.***\")"
      ]
    },
    {
      "cell_type": "code",
      "execution_count": null,
      "metadata": {
        "colab": {
          "background_save": true
        },
        "id": "C0OMHhoS6V_c"
      },
      "outputs": [],
      "source": [
        "\n",
        "# outliers in tip column\n",
        "\n",
        "plt.figure(figsize=(20,5))\n",
        "\n",
        "sns.boxplot(x=tip, color='g')\n",
        "\n",
        "print(\"***The plot shows 8 points outside the box,\"\n",
        "      \"these are outliers as there are not included in the box of other observation i.e no where near the quartiles.***\")\n"
      ]
    },
    {
      "cell_type": "code",
      "execution_count": null,
      "metadata": {
        "colab": {
          "background_save": true
        },
        "id": "GhCwCyuP6cRi"
      },
      "outputs": [],
      "source": [
        "#5.Find out the IQR\n",
        "# IQR Value\n",
        "\n",
        "\n",
        "bill_tip = pd.DataFrame(imp,columns=['total_bill','tip','size'])\n",
        "\n",
        "print(bill_tip)\n",
        "\n",
        "print(\"\\n \\n \")\n",
        "print(\"\\n \\n \")\n",
        "\n",
        "\n",
        "print(\"IQR For Total Bill : \",stats.iqr(bill))\n",
        "print(\"IQR For Tip : \",stats.iqr(tip))\n",
        "print(\"IQR For Total Bill & Tip : \",stats.iqr(bill_tip))\n"
      ]
    },
    {
      "cell_type": "code",
      "execution_count": null,
      "metadata": {
        "colab": {
          "background_save": true
        },
        "id": "YcHZ4SBG6k2k"
      },
      "outputs": [],
      "source": [
        "#6.Plot the histogram for \"Total Bill\" and \"Tip\"\n",
        "# Normal Distribution Histogram For Total Bill\n",
        "\n",
        "plt.figure(figsize=[12,8])\n",
        "plt.hist(x=bill, bins=20, color = 'b', edgecolor=\"g\")\n",
        "plt.xlabel(\"Total Bill\",fontsize=19)\n",
        "plt.ylabel(\"Distribution\",fontsize=19)\n",
        "plt.title('Normal Distribution Histogram For Total Bill - Bins 20',fontsize=19)\n",
        "plt.grid(axis='y', alpha=0.75)\n",
        "plt.show()"
      ]
    },
    {
      "cell_type": "code",
      "execution_count": null,
      "metadata": {
        "colab": {
          "background_save": true
        },
        "id": "y-tyw1Q76o6O"
      },
      "outputs": [],
      "source": [
        "# Normal Distribution Histogram For Tip\n",
        "\n",
        "plt.figure(figsize=[6,4])\n",
        "plt.hist(x=tip, bins=20, color = 'r', edgecolor=\"g\")\n",
        "plt.xlabel(\"Tip\",fontsize=19)\n",
        "plt.ylabel(\"Distribution\",fontsize=19)\n",
        "plt.title('Normal Distribution Histogram For Tip - Bins 20 ',fontsize=19)\n",
        "plt.grid(axis='y', alpha=0.75)\n",
        "plt.show()"
      ]
    },
    {
      "cell_type": "code",
      "execution_count": null,
      "metadata": {
        "colab": {
          "background_save": true
        },
        "id": "WF9NJNJO6y-p"
      },
      "outputs": [],
      "source": [
        "#7.Identify skewness in each. Type of skewness and the possible reason for the skewness\n",
        "print(\"In Total_bill \\n\")\n",
        "\n",
        "print(\"***The long tail is on the right side so the histogram is Skewed Right So,[Mean > Median]***\")\n"
      ]
    },
    {
      "cell_type": "code",
      "execution_count": null,
      "metadata": {
        "colab": {
          "background_save": true
        },
        "id": "I_MSZSRI67Wl"
      },
      "outputs": [],
      "source": [
        "print(\"In Tip \\n\")\n",
        "\n",
        "print(\"***The long tail is on the right side so the histogram is Skewed Right So,[Mean > Median]***\")\n"
      ]
    },
    {
      "cell_type": "code",
      "execution_count": null,
      "metadata": {
        "colab": {
          "background_save": true
        },
        "id": "lWAG2nf87Co7"
      },
      "outputs": [],
      "source": [
        "#Plot the cumulative Frequency Polygon for \"Total Bill\" and \"Tip\"\n",
        "# Plotting Cumulative Frequency Polygon for \"Total Bill\" Column\n",
        "\n",
        "values, base = np.histogram(bill, bins=20)\n",
        "\n",
        "cumulative = np.cumsum(values)      \n",
        "\n",
        "plt.plot(base[:-1], cumulative)\n",
        "\n",
        "#plt.title('Total Bill',fontsize=15)\n",
        "plt\n",
        "#plt.grid(axis='y', alpha=0.75)\n",
        "#plt.grid(axis='x', alpha=0.75)\n",
        "plt.show()\n"
      ]
    },
    {
      "cell_type": "code",
      "execution_count": null,
      "metadata": {
        "colab": {
          "background_save": true
        },
        "id": "Cmy8Lub87IFk"
      },
      "outputs": [],
      "source": [
        "# Plotting Cumulative Frequency Polygon for \"Tip\" Column\n",
        "\n",
        "values, base = np.histogram(tip, bins=40)\n",
        "cumulative = np.cumsum(values)\n",
        "plt.plot(base[:-1], cumulative)\n",
        "plt.title('Tip',fontsize=15)\n",
        "plt.grid(axis='y', alpha=0.75)\n",
        "plt.grid(axis='x', alpha=0.75)\n",
        "plt.show()"
      ]
    },
    {
      "cell_type": "code",
      "execution_count": null,
      "metadata": {
        "colab": {
          "background_save": true
        },
        "id": "BsFcUTtZ7QH-"
      },
      "outputs": [],
      "source": [
        "#8. Prepare the Frequency Table and Bar Chart for \"Size\". Summarize and explain your findings\n",
        "imp"
      ]
    },
    {
      "cell_type": "code",
      "execution_count": null,
      "metadata": {
        "colab": {
          "background_save": true
        },
        "id": "2StakCKP7X6m"
      },
      "outputs": [],
      "source": [
        "# Frequency table and Bar Chart\n",
        "\n",
        "print(\"Frequency Table for Size\")\n",
        "size = pd.crosstab(index=imp['size'],columns='count')\n",
        "print(size)\n",
        "size.plot.bar(figsize=(15,5),rot=0)"
      ]
    },
    {
      "cell_type": "code",
      "execution_count": null,
      "metadata": {
        "colab": {
          "background_save": true
        },
        "id": "ZA0sHhlZ7fuk"
      },
      "outputs": [],
      "source": [
        "x = pd.crosstab(index=imp[\"size\"], columns=imp[\"tip\"],margins=True)   \n",
        "x"
      ]
    },
    {
      "cell_type": "code",
      "execution_count": null,
      "metadata": {
        "colab": {
          "background_save": true
        },
        "id": "2dvCVihF7nZI"
      },
      "outputs": [],
      "source": [
        "y = pd.crosstab(index=imp[\"size\"], columns=imp[\"total_bill\"],margins=True)\n",
        "y"
      ]
    },
    {
      "cell_type": "code",
      "execution_count": null,
      "metadata": {
        "colab": {
          "background_save": true
        },
        "id": "6rbxq_X07sSX"
      },
      "outputs": [],
      "source": [
        "# A little summary of above chart\n",
        "print(\"At first we Created a frequency table for size column in dataset using crosstab() function.\"\n",
        "      \"Then using the frequency table we \\n  created Bar-Chart.\"+'\\n'+\"By creating the table and\"\n",
        "     \"graph we found out the numbers of the families with different sizes \"\n",
        "      \"(families containing different numbers of peoples) that visited our Resturant!!!!\")\n"
      ]
    },
    {
      "cell_type": "code",
      "execution_count": null,
      "metadata": {
        "colab": {
          "background_save": true
        },
        "id": "6uLeA1fH7zxJ"
      },
      "outputs": [],
      "source": [
        "#9. Prepare two variable frequency tables for \"Size\" vs \"Tip\" and \"Size\" vs \"Total Bill\". Summarize and explain your findings.\n",
        "#Size Vs Tip\n",
        "\n",
        "size_tip = pd.crosstab(index=imp[\"size\"],columns=imp['tip'], margins=True)\n",
        "\n",
        "size_tip.index=[\"1 member\",\"2 members\",\"3 members\",\"4 members\",\"5 members\",\"6 members\",\"Total\"]\n",
        "\n",
        "print(size_tip)"
      ]
    },
    {
      "cell_type": "code",
      "execution_count": null,
      "metadata": {
        "colab": {
          "background_save": true
        },
        "id": "HXHJJQIY77us"
      },
      "outputs": [],
      "source": [
        "print(\"\\n Through this table we get to know that how much tip we recieve from families with different number of peoples.\")\n"
      ]
    },
    {
      "cell_type": "code",
      "execution_count": null,
      "metadata": {
        "colab": {
          "background_save": true
        },
        "id": "oo3JTMmx8B0X"
      },
      "outputs": [],
      "source": [
        "#Size Vs Total Bill\n",
        "\n",
        "size_bill = pd.crosstab(index=imp['size'],columns=imp['total_bill'],margins=True)\n",
        "size_bill.index=[\"1 member\",\"2 members\",\"3 members\",\"4 members\",\"5 members\",\"6 members\",\"Total\"]\n",
        "print(size_bill)\n",
        "print(\"\\n Through this table we get to know that how much worth of food did \"\n",
        "      \"families buy families with different number of peoples.\")\n"
      ]
    },
    {
      "cell_type": "code",
      "execution_count": null,
      "metadata": {
        "colab": {
          "background_save": true
        },
        "id": "sXxgjwNu8S9l"
      },
      "outputs": [],
      "source": [
        "#10. Explore if there is any dependency between the variable \"Tip\" and rest of the variables.\n",
        "# Simple Pairplot\n",
        "\n",
        "sns.pairplot(imp)\n"
      ]
    },
    {
      "cell_type": "code",
      "execution_count": null,
      "metadata": {
        "colab": {
          "background_save": true
        },
        "id": "Vl4QjHIu8Y7H"
      },
      "outputs": [],
      "source": [
        "\n",
        "\n",
        "# Pairplot with sex hue\n",
        "\n",
        "sns.pairplot(imp,hue='sex')\n"
      ]
    },
    {
      "cell_type": "code",
      "execution_count": null,
      "metadata": {
        "colab": {
          "background_save": true
        },
        "id": "uWc82eVA8btF"
      },
      "outputs": [],
      "source": [
        "\n",
        "# Pairplot with smoker hue\n",
        "\n",
        "sns.pairplot(imp,hue='smoker')\n"
      ]
    },
    {
      "cell_type": "code",
      "execution_count": null,
      "metadata": {
        "colab": {
          "background_save": true
        },
        "id": "GpHDW2xk8kgq"
      },
      "outputs": [],
      "source": [
        "\n",
        "sns.relplot(y=\"tip\",x=\"total_bill\",hue=\"smoker\",col=\"time\",data=imp)\n"
      ]
    },
    {
      "cell_type": "markdown",
      "metadata": {
        "id": "JXJ-JQin8q6v"
      },
      "source": [
        "The above plot shows that:\n",
        "1- the number of smokers in night is quite high as compared to daytime.\n",
        "2- There are also some high amount of tip in the night than daytime\n",
        "3- The amount of tip and total bill is not dependent on whether the customer is smoker or not.\n",
        "4- The amount of tip and total bill are dependent variables.\n"
      ]
    },
    {
      "cell_type": "code",
      "execution_count": null,
      "metadata": {
        "colab": {
          "background_save": true
        },
        "id": "qSCr0ecP8vt9"
      },
      "outputs": [],
      "source": [
        "p = imp.hist(figsize = (20,20))\n"
      ]
    },
    {
      "cell_type": "code",
      "execution_count": null,
      "metadata": {
        "colab": {
          "background_save": true
        },
        "id": "CP6_BFYn8ykx"
      },
      "outputs": [],
      "source": [
        "plt.matshow(imp.corr())\n",
        "plt.colorbar()\n",
        "plt.show()"
      ]
    },
    {
      "cell_type": "code",
      "execution_count": null,
      "metadata": {
        "colab": {
          "background_save": true
        },
        "id": "XihdXfLm83t9"
      },
      "outputs": [],
      "source": [
        "sns.countplot(x = imp['sex'])\n",
        "fig=plt.gcf()\n",
        "fig.set_size_inches(6,4)"
      ]
    },
    {
      "cell_type": "code",
      "execution_count": null,
      "metadata": {
        "colab": {
          "background_save": true
        },
        "id": "b0wE-KmR8-f7"
      },
      "outputs": [],
      "source": [
        "imp['size'].value_counts().plot(kind='bar', title='Size of the Party',figsize=(20,8)) \n"
      ]
    },
    {
      "cell_type": "code",
      "execution_count": null,
      "metadata": {
        "colab": {
          "background_save": true
        },
        "id": "EvBI18dU9BuE"
      },
      "outputs": [],
      "source": [
        "imp\n"
      ]
    },
    {
      "cell_type": "code",
      "execution_count": null,
      "metadata": {
        "colab": {
          "background_save": true
        },
        "id": "nlBJQXs39FSa"
      },
      "outputs": [],
      "source": [
        "imp.replace({\"Female\": 1, \"Male\": 0}, inplace=True)  \n",
        "imp.replace({\"No\": 0, \"Yes\": 1}, inplace=True)   \n",
        "\n"
      ]
    },
    {
      "cell_type": "code",
      "execution_count": null,
      "metadata": {
        "colab": {
          "background_save": true
        },
        "id": "myTLX2Vi9KZh"
      },
      "outputs": [],
      "source": [
        "imp"
      ]
    },
    {
      "cell_type": "code",
      "execution_count": null,
      "metadata": {
        "colab": {
          "background_save": true
        },
        "id": "E4uxZgB09Ssy"
      },
      "outputs": [],
      "source": [
        "imp['day'].value_counts() "
      ]
    },
    {
      "cell_type": "code",
      "execution_count": null,
      "metadata": {
        "colab": {
          "background_save": true
        },
        "id": "VWuI9uGh9WQp"
      },
      "outputs": [],
      "source": [
        "imp.replace({\"Fri\": 1, \"Thur\": 0, \"Sat\":2, \"Sun\": 3}, inplace=True)"
      ]
    },
    {
      "cell_type": "code",
      "execution_count": null,
      "metadata": {
        "colab": {
          "background_save": true
        },
        "id": "Ojcg0Zpy9ZMt"
      },
      "outputs": [],
      "source": [
        "imp"
      ]
    },
    {
      "cell_type": "code",
      "execution_count": null,
      "metadata": {
        "colab": {
          "background_save": true
        },
        "id": "OkoGdqx09g_x"
      },
      "outputs": [],
      "source": [
        "df['time'].value_counts()"
      ]
    },
    {
      "cell_type": "markdown",
      "metadata": {
        "id": "RhjMHxag9rEc"
      },
      "source": [
        "\n",
        "---------------------------------------------------------------------------\n",
        "NameError                                 Traceback (most recent call last)\n",
        "<ipython-input-43-15e76a3639b7> in <module>\n",
        "----> 1 df['time'].value_counts()\n",
        "\n",
        "NameError: name 'df' is not defined\n",
        "So, we can convert it into o and 1\n"
      ]
    },
    {
      "cell_type": "code",
      "execution_count": null,
      "metadata": {
        "colab": {
          "background_save": true
        },
        "id": "9tVBtVb_9vWp"
      },
      "outputs": [],
      "source": [
        "imp.replace({\"Lunch\": 0, \"Dinner\": 1}, inplace=True)    \n",
        "imp"
      ]
    },
    {
      "cell_type": "code",
      "execution_count": null,
      "metadata": {
        "colab": {
          "background_save": true
        },
        "id": "noWtDA4S91zE"
      },
      "outputs": [],
      "source": [
        "\n",
        "X = imp.drop('tip', axis=1)\n",
        "Y = imp['tip']\n",
        "X"
      ]
    },
    {
      "cell_type": "code",
      "execution_count": null,
      "metadata": {
        "colab": {
          "background_save": true
        },
        "id": "KPMYEc0F957c"
      },
      "outputs": [],
      "source": [
        "Y"
      ]
    },
    {
      "cell_type": "code",
      "execution_count": null,
      "metadata": {
        "colab": {
          "background_save": true
        },
        "id": "D_qlu2m0-FA6"
      },
      "outputs": [],
      "source": [
        "#Fitting the Simple Linear Regression model to the training dataset \n",
        "\n",
        "from sklearn.linear_model import LinearRegression  \n",
        "regressor= LinearRegression()  \n",
        "regressor.fit(X,Y)   \n",
        "LinearRegression()"
      ]
    },
    {
      "cell_type": "code",
      "execution_count": null,
      "metadata": {
        "colab": {
          "background_save": true
        },
        "id": "LsEg4PKq-MMs"
      },
      "outputs": [],
      "source": [
        "regressor.predict(X) "
      ]
    },
    {
      "cell_type": "code",
      "execution_count": null,
      "metadata": {
        "colab": {
          "background_save": true
        },
        "id": "QLzgEPb35uNs"
      },
      "outputs": [],
      "source": [
        "regressor.score(X,Y) \n"
      ]
    },
    {
      "cell_type": "code",
      "execution_count": null,
      "metadata": {
        "colab": {
          "background_save": true
        },
        "id": "HZl_jXbo-Vgx"
      },
      "outputs": [],
      "source": []
    },
    {
      "cell_type": "markdown",
      "metadata": {
        "id": "j5qSrCXErxJG"
      },
      "source": [
        "# New Section"
      ]
    }
  ],
  "metadata": {
    "colab": {
      "provenance": []
    },
    "kernelspec": {
      "display_name": "Python 3",
      "name": "python3"
    },
    "language_info": {
      "name": "python"
    }
  },
  "nbformat": 4,
  "nbformat_minor": 0
}