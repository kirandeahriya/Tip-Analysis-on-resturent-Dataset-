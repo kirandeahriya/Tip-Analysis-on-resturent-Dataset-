{
 "cells": [
  {
   "cell_type": "code",
   "execution_count": 1,
   "id": "8b519ead",
   "metadata": {},
   "outputs": [],
   "source": [
    "import numpy as np\n",
    "import pandas as pd\n",
    "import matplotlib.pyplot as plt\n",
    "import seaborn as sns\n",
    "df=pd.read_csv(\"tips.csv\")"
   ]
  },
  {
   "cell_type": "code",
   "execution_count": 2,
   "id": "0eb5e12a",
   "metadata": {},
   "outputs": [
    {
     "data": {
      "text/html": [
       "<div>\n",
       "<style scoped>\n",
       "    .dataframe tbody tr th:only-of-type {\n",
       "        vertical-align: middle;\n",
       "    }\n",
       "\n",
       "    .dataframe tbody tr th {\n",
       "        vertical-align: top;\n",
       "    }\n",
       "\n",
       "    .dataframe thead th {\n",
       "        text-align: right;\n",
       "    }\n",
       "</style>\n",
       "<table border=\"1\" class=\"dataframe\">\n",
       "  <thead>\n",
       "    <tr style=\"text-align: right;\">\n",
       "      <th></th>\n",
       "      <th>total_bill</th>\n",
       "      <th>tip</th>\n",
       "      <th>size</th>\n",
       "    </tr>\n",
       "  </thead>\n",
       "  <tbody>\n",
       "    <tr>\n",
       "      <th>count</th>\n",
       "      <td>244.000000</td>\n",
       "      <td>244.000000</td>\n",
       "      <td>244.000000</td>\n",
       "    </tr>\n",
       "    <tr>\n",
       "      <th>mean</th>\n",
       "      <td>19.785943</td>\n",
       "      <td>2.998279</td>\n",
       "      <td>2.569672</td>\n",
       "    </tr>\n",
       "    <tr>\n",
       "      <th>std</th>\n",
       "      <td>8.902412</td>\n",
       "      <td>1.383638</td>\n",
       "      <td>0.951100</td>\n",
       "    </tr>\n",
       "    <tr>\n",
       "      <th>min</th>\n",
       "      <td>3.070000</td>\n",
       "      <td>1.000000</td>\n",
       "      <td>1.000000</td>\n",
       "    </tr>\n",
       "    <tr>\n",
       "      <th>25%</th>\n",
       "      <td>13.347500</td>\n",
       "      <td>2.000000</td>\n",
       "      <td>2.000000</td>\n",
       "    </tr>\n",
       "    <tr>\n",
       "      <th>50%</th>\n",
       "      <td>17.795000</td>\n",
       "      <td>2.900000</td>\n",
       "      <td>2.000000</td>\n",
       "    </tr>\n",
       "    <tr>\n",
       "      <th>75%</th>\n",
       "      <td>24.127500</td>\n",
       "      <td>3.562500</td>\n",
       "      <td>3.000000</td>\n",
       "    </tr>\n",
       "    <tr>\n",
       "      <th>max</th>\n",
       "      <td>50.810000</td>\n",
       "      <td>10.000000</td>\n",
       "      <td>6.000000</td>\n",
       "    </tr>\n",
       "  </tbody>\n",
       "</table>\n",
       "</div>"
      ],
      "text/plain": [
       "       total_bill         tip        size\n",
       "count  244.000000  244.000000  244.000000\n",
       "mean    19.785943    2.998279    2.569672\n",
       "std      8.902412    1.383638    0.951100\n",
       "min      3.070000    1.000000    1.000000\n",
       "25%     13.347500    2.000000    2.000000\n",
       "50%     17.795000    2.900000    2.000000\n",
       "75%     24.127500    3.562500    3.000000\n",
       "max     50.810000   10.000000    6.000000"
      ]
     },
     "execution_count": 2,
     "metadata": {},
     "output_type": "execute_result"
    }
   ],
   "source": [
    "df.describe()"
   ]
  },
  {
   "cell_type": "markdown",
   "id": "5ac42a8e",
   "metadata": {},
   "source": [
    "Que1: find out the 5 number summery for total_bill & tip(q1,q2,q2,outmin,outmax)"
   ]
  },
  {
   "cell_type": "code",
   "execution_count": 3,
   "id": "beb0d2a0",
   "metadata": {},
   "outputs": [
    {
     "name": "stdout",
     "output_type": "stream",
     "text": [
      "summary of tip is:  2.0 2.9 3.5625 1.0 50.81\n",
      "summary if total_bill:  13.3475 17.795 24.127499999999998 3.07 50.81\n"
     ]
    }
   ],
   "source": [
    "#step1:find the percentile\n",
    "quart=np.percentile(df.tip,[25,50,75])\n",
    "qb=np.percentile(df.total_bill,[25,50,75])\n",
    "#store quartile value in Q1,Q2,Q3\n",
    "n1,n2,n3=quart[0],quart[1],quart[2]\n",
    "n4=df.tip.min()\n",
    "n5=df.total_bill.max()\n",
    "print(\"summary of tip is: \",n1,n2,n3,n4,n5)\n",
    "x1,x2,x3,x4,x5=qb[0],qb[1],qb[2],df.total_bill.min(),df.total_bill.max()\n",
    "print(\"summary if total_bill: \",x1,x2,x3,x4,x5)"
   ]
  },
  {
   "cell_type": "markdown",
   "id": "e0fc9d97",
   "metadata": {},
   "source": [
    "Que 4:find the iqr\n",
    "que 5: findout the outlier for given data for tip total_bill"
   ]
  },
  {
   "cell_type": "code",
   "execution_count": 4,
   "id": "b38dd16f",
   "metadata": {},
   "outputs": [
    {
     "name": "stdout",
     "output_type": "stream",
     "text": [
      "the five number summary is :\n",
      " 2.0 2.9 3.5625 2.0 3.5625\n"
     ]
    }
   ],
   "source": [
    "#step1:find the percentile\n",
    "quart=np.percentile(df.tip,[25,50,75])\n",
    "#store quartile value in Q1,Q2,Q3\n",
    "q1,q2,q3=quart[0],quart[1],quart[2]\n",
    "#find value of iqr\n",
    "iqr=q3-q3\n",
    "#find outliers\n",
    "out_min=q1-(1.5*iqr)\n",
    "out_max=q3+(1.5*iqr)\n",
    "print(\"the five number summary is :\\n\",q1,q2,q3,out_min,out_max)"
   ]
  },
  {
   "cell_type": "code",
   "execution_count": 5,
   "id": "e52c7955",
   "metadata": {},
   "outputs": [
    {
     "name": "stdout",
     "output_type": "stream",
     "text": [
      "the five number summary is :\n",
      " 13.3475 17.795 24.127499999999998 13.3475 24.127499999999998\n"
     ]
    }
   ],
   "source": [
    "#step2:find the percentile\n",
    "quart=np.percentile(df.total_bill,[25,50,75])\n",
    "#store quartile value in Q1,Q2,Q3\n",
    "q1,q2,q3=quart[0],quart[1],quart[2]\n",
    "#find value of iqr\n",
    "iqr=q3-q3\n",
    "#find outliers\n",
    "out_min=q1-(1.5*iqr)\n",
    "out_max=q3+(1.5*iqr)\n",
    "print(\"the five number summary is :\\n\",q1,q2,q3,out_min,out_max)"
   ]
  },
  {
   "cell_type": "markdown",
   "id": "fa5161e4",
   "metadata": {},
   "source": [
    "que2: plot the boxplot for total_bill & tip "
   ]
  },
  {
   "cell_type": "code",
   "execution_count": 6,
   "id": "f8189a7b",
   "metadata": {},
   "outputs": [
    {
     "name": "stderr",
     "output_type": "stream",
     "text": [
      "C:\\Users\\KIRAN\\anaconda3\\lib\\site-packages\\seaborn\\_decorators.py:36: FutureWarning: Pass the following variable as a keyword arg: x. From version 0.12, the only valid positional argument will be `data`, and passing other arguments without an explicit keyword will result in an error or misinterpretation.\n",
      "  warnings.warn(\n"
     ]
    },
    {
     "data": {
      "image/png": "[encoded data removed]",
      "text/plain": [
       "<Figure size 640x480 with 1 Axes>"
      ]
     },
     "metadata": {},
     "output_type": "display_data"
    }
   ],
   "source": [
    "\n",
    "sns.boxplot(df['tip'])\n",
    "plt.show()"
   ]
  },
  {
   "cell_type": "code",
   "execution_count": 7,
   "id": "dca69547",
   "metadata": {},
   "outputs": [
    {
     "name": "stderr",
     "output_type": "stream",
     "text": [
      "C:\\Users\\KIRAN\\anaconda3\\lib\\site-packages\\seaborn\\_decorators.py:36: FutureWarning: Pass the following variable as a keyword arg: x. From version 0.12, the only valid positional argument will be `data`, and passing other arguments without an explicit keyword will result in an error or misinterpretation.\n",
      "  warnings.warn(\n"
     ]
    },
    {
     "data": {
      "text/plain": [
       "<AxesSubplot:xlabel='total_bill'>"
      ]
     },
     "execution_count": 7,
     "metadata": {},
     "output_type": "execute_result"
    },
    {
     "data": {
      "image/png": "[encoded data removed]",
      "text/plain": [
       "<Figure size 640x480 with 1 Axes>"
      ]
     },
     "metadata": {},
     "output_type": "display_data"
    }
   ],
   "source": [
    "sns.boxplot(df.total_bill)"
   ]
  },
  {
   "cell_type": "markdown",
   "id": "27edd3e2",
   "metadata": {},
   "source": [
    "Que3 Analize the skewness of boxplot for tip and total_bill\n",
    "1- totol bill has a *right skewed* data because the median value in wishker is skewed in right\n",
    "2- tip attribute in a *left skewed* data because of median is in near to q1 quartile"
   ]
  },
  {
   "cell_type": "code",
   "execution_count": 8,
   "id": "3c679677",
   "metadata": {},
   "outputs": [
    {
     "ename": "NameError",
     "evalue": "name 'Q4' is not defined",
     "output_type": "error",
     "traceback": [
      "\u001b[1;31m---------------------------------------------------------------------------\u001b[0m",
      "\u001b[1;31mNameError\u001b[0m                                 Traceback (most recent call last)",
      "Cell \u001b[1;32mIn[8], line 1\u001b[0m\n\u001b[1;32m----> 1\u001b[0m \u001b[43mQ4\u001b[49m \n",
      "\u001b[1;31mNameError\u001b[0m: name 'Q4' is not defined"
     ]
    }
   ],
   "source": [
    "Q4 "
   ]
  },
  {
   "cell_type": "code",
   "execution_count": null,
   "id": "ccab4e9a",
   "metadata": {},
   "outputs": [],
   "source": [
    "sns.histplot(df.total_bill,kde=True)\n"
   ]
  },
  {
   "cell_type": "code",
   "execution_count": null,
   "id": "615cc7f5",
   "metadata": {},
   "outputs": [],
   "source": [
    "sns.histplot(df.tip,kde=True)"
   ]
  },
  {
   "cell_type": "code",
   "execution_count": null,
   "id": "bf64b845",
   "metadata": {},
   "outputs": [],
   "source": [
    "sns.barplot(x='total_bill',y='tip',data=df,hue='day')"
   ]
  },
  {
   "cell_type": "code",
   "execution_count": null,
   "id": "aa550e29",
   "metadata": {},
   "outputs": [],
   "source": [
    "f=pd.crosstab(df[\"total_bill\"],'total_counts' )"
   ]
  },
  {
   "cell_type": "code",
   "execution_count": null,
   "id": "5d3411cf",
   "metadata": {},
   "outputs": [],
   "source": []
  }
 ],
 "metadata": {
  "kernelspec": {
   "display_name": "Python 3 (ipykernel)",
   "language": "python",
   "name": "python3"
  },
  "language_info": {
   "codemirror_mode": {
    "name": "ipython",
    "version": 3
   },
   "file_extension": ".py",
   "mimetype": "text/x-python",
   "name": "python",
   "nbconvert_exporter": "python",
   "pygments_lexer": "ipython3",
   "version": "3.9.12"
  }
 },
 "nbformat": 4,
 "nbformat_minor": 5
}
